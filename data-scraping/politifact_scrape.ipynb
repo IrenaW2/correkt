{
 "cells": [
  {
   "cell_type": "code",
   "execution_count": 23,
   "metadata": {},
   "outputs": [],
   "source": [
    "from bs4 import BeautifulSoup\n",
    "import pandas as pd \n",
    "import requests\n",
    "import urllib.request\n",
    "import time \n"
   ]
  },
  {
   "cell_type": "code",
   "execution_count": 24,
   "metadata": {},
   "outputs": [],
   "source": [
    "statement = []\n",
    "condition = []"
   ]
  },
  {
   "cell_type": "code",
   "execution_count": 25,
   "metadata": {},
   "outputs": [],
   "source": [
    "headers ={\n",
    "    'User-Agent' : 'Mozilla/5.0 (Windows NT 10.0; Win64; x64; rv:88.0) Gecko/20100101'\n",
    "}\n",
    "def scrape_website(page_number):\n",
    "    page_num = str(page_number)\n",
    "    URL = 'https://www.politifact.com/factchecks/list/?page='+page_num+'&ruling=true'\n",
    "    webpage = requests.get(URL, headers=headers)\n",
    "    soup = BeautifulSoup(webpage.text, 'html.parser')\n",
    "    #get the location of the information \n",
    "    statement_quote = soup.find_all('div', attrs = {'class' : 'm-statement__quote'}) #Location of the statement \n",
    "    target = soup.find_all('div', attrs = {'class' : 'm-statement__meter'}) #location of the condition \n",
    "\n",
    "    for i in statement_quote: \n",
    "        link2 = i.find_all('a')\n",
    "        statement_text = link2[0].text.strip()\n",
    "        statement.append(statement_text)\n",
    "    for i in target:\n",
    "        link3 = i.find('div', attrs = {'class' : 'c-image'}).find('img').get('alt')\n",
    "        condition.append(link3)\n",
    "        \n",
    "\n",
    "\n",
    "    \n"
   ]
  },
  {
   "cell_type": "code",
   "execution_count": 26,
   "metadata": {},
   "outputs": [],
   "source": [
    "n = 84\n",
    "for i in range(1,n):\n",
    "    scrape_website(i)"
   ]
  },
  {
   "cell_type": "code",
   "execution_count": 27,
   "metadata": {},
   "outputs": [
    {
     "data": {
      "text/html": [
       "<div>\n",
       "<style scoped>\n",
       "    .dataframe tbody tr th:only-of-type {\n",
       "        vertical-align: middle;\n",
       "    }\n",
       "\n",
       "    .dataframe tbody tr th {\n",
       "        vertical-align: top;\n",
       "    }\n",
       "\n",
       "    .dataframe thead th {\n",
       "        text-align: right;\n",
       "    }\n",
       "</style>\n",
       "<table border=\"1\" class=\"dataframe\">\n",
       "  <thead>\n",
       "    <tr style=\"text-align: right;\">\n",
       "      <th></th>\n",
       "      <th>statement</th>\n",
       "      <th>condition</th>\n",
       "    </tr>\n",
       "  </thead>\n",
       "  <tbody>\n",
       "    <tr>\n",
       "      <th>0</th>\n",
       "      <td>If New York’s proposed limits on natural gas i...</td>\n",
       "      <td>true</td>\n",
       "    </tr>\n",
       "    <tr>\n",
       "      <th>1</th>\n",
       "      <td>“Wisconsin is the nation’s top cranberry produ...</td>\n",
       "      <td>true</td>\n",
       "    </tr>\n",
       "    <tr>\n",
       "      <th>2</th>\n",
       "      <td>\"Biden drained America's Strategic Petroleum R...</td>\n",
       "      <td>true</td>\n",
       "    </tr>\n",
       "    <tr>\n",
       "      <th>3</th>\n",
       "      <td>\"Historically, our spring elections (including...</td>\n",
       "      <td>true</td>\n",
       "    </tr>\n",
       "    <tr>\n",
       "      <th>4</th>\n",
       "      <td>\"Latina workers make 54 cents for every dollar...</td>\n",
       "      <td>true</td>\n",
       "    </tr>\n",
       "    <tr>\n",
       "      <th>...</th>\n",
       "      <td>...</td>\n",
       "      <td>...</td>\n",
       "    </tr>\n",
       "    <tr>\n",
       "      <th>2455</th>\n",
       "      <td>Hillary Clinton \"agreed with (John McCain) on ...</td>\n",
       "      <td>true</td>\n",
       "    </tr>\n",
       "    <tr>\n",
       "      <th>2456</th>\n",
       "      <td>Hillary Clinton \"actually differed with (John ...</td>\n",
       "      <td>true</td>\n",
       "    </tr>\n",
       "    <tr>\n",
       "      <th>2457</th>\n",
       "      <td>\"Two-thirds of our economy is a consumer econo...</td>\n",
       "      <td>true</td>\n",
       "    </tr>\n",
       "    <tr>\n",
       "      <th>2458</th>\n",
       "      <td>Romney used to favor gun control, and said he ...</td>\n",
       "      <td>true</td>\n",
       "    </tr>\n",
       "    <tr>\n",
       "      <th>2459</th>\n",
       "      <td>Mitt Romney previously believed \"that abortion...</td>\n",
       "      <td>true</td>\n",
       "    </tr>\n",
       "  </tbody>\n",
       "</table>\n",
       "<p>2460 rows × 2 columns</p>\n",
       "</div>"
      ],
      "text/plain": [
       "                                              statement condition\n",
       "0     If New York’s proposed limits on natural gas i...      true\n",
       "1     “Wisconsin is the nation’s top cranberry produ...      true\n",
       "2     \"Biden drained America's Strategic Petroleum R...      true\n",
       "3     \"Historically, our spring elections (including...      true\n",
       "4     \"Latina workers make 54 cents for every dollar...      true\n",
       "...                                                 ...       ...\n",
       "2455  Hillary Clinton \"agreed with (John McCain) on ...      true\n",
       "2456  Hillary Clinton \"actually differed with (John ...      true\n",
       "2457  \"Two-thirds of our economy is a consumer econo...      true\n",
       "2458  Romney used to favor gun control, and said he ...      true\n",
       "2459  Mitt Romney previously believed \"that abortion...      true\n",
       "\n",
       "[2460 rows x 2 columns]"
      ]
     },
     "execution_count": 27,
     "metadata": {},
     "output_type": "execute_result"
    }
   ],
   "source": [
    "data = pd.DataFrame(columns = ['statement', 'condition'])\n",
    "data = data.fillna(0)\n",
    "\n",
    "data['statement'] = statement\n",
    "data['condition'] = pd.Series(condition) \n",
    "\n",
    "\n",
    "data"
   ]
  },
  {
   "cell_type": "code",
   "execution_count": 28,
   "metadata": {},
   "outputs": [],
   "source": [
    "data.to_csv('politifact_true.csv')\n"
   ]
  }
 ],
 "metadata": {
  "kernelspec": {
   "display_name": "Python 3",
   "language": "python",
   "name": "python3"
  },
  "language_info": {
   "codemirror_mode": {
    "name": "ipython",
    "version": 3
   },
   "file_extension": ".py",
   "mimetype": "text/x-python",
   "name": "python",
   "nbconvert_exporter": "python",
   "pygments_lexer": "ipython3",
   "version": "3.7.2"
  },
  "orig_nbformat": 4,
  "vscode": {
   "interpreter": {
    "hash": "56f57b438d28c152722f34a5e7336a9017c241641ceae398165a6f845f4b30ee"
   }
  }
 },
 "nbformat": 4,
 "nbformat_minor": 2
}
