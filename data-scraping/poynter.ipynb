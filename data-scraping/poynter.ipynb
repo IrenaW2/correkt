{
 "cells": [
  {
   "cell_type": "code",
   "execution_count": 48,
   "metadata": {},
   "outputs": [],
   "source": [
    "from bs4 import BeautifulSoup\n",
    "import pandas as pd \n",
    "import requests\n",
    "import urllib.request\n",
    "import time \n",
    "\n"
   ]
  },
  {
   "cell_type": "code",
   "execution_count": 49,
   "metadata": {},
   "outputs": [],
   "source": [
    "statement = []\n",
    "condition = []\n",
    "\n"
   ]
  },
  {
   "cell_type": "code",
   "execution_count": 50,
   "metadata": {},
   "outputs": [],
   "source": [
    "headers ={\n",
    "    'User-Agent' : 'Mozilla/5.0 (Windows NT 10.0; Win64; x64; rv:88.0) Gecko/20100101'\n",
    "}\n",
    "def scrape_website(page_number):\n",
    "    page_num = str(page_number)\n",
    "    URL = 'https://www.poynter.org/ifcn-covid-19-misinformation/page/' + page_num\n",
    "    webpage = requests.get(URL, headers=headers)\n",
    "    soup = BeautifulSoup(webpage.text, 'html.parser')\n",
    "    #get the location of the information \n",
    "    statement_quote = soup.find_all('h2', attrs = {'class' : 'entry-title'}) #Location of the statement \n",
    "    #target = soup.find_all('span', attrs = {'class' : 'entry-title--red'}) #location of the condition \n",
    "    target = statement_quote\n",
    "    temp_statement =[]\n",
    "    count = 0 \n",
    "    for i in statement_quote: \n",
    "        link2 = i.find_all('a')\n",
    "        statement_text = link2[0].text.strip()\n",
    "        temp_statement.append(statement_text)\n",
    "    \n",
    "\n",
    "    for i in temp_statement:\n",
    "        colon = 0\n",
    "        for j in range(len(i)):\n",
    "            if i[j] == ':':\n",
    "                colon = j\n",
    "\n",
    "        temp = i[colon+1:]\n",
    "        statement.append(temp)\n",
    "\n",
    "\n",
    "    for i in target:\n",
    "        link3 = i.find('span')\n",
    "        target_text = link3.text.strip(\":\")\n",
    "\n",
    "        condition.append(target_text)\n",
    "        count += 1 \n",
    "\n",
    "\n",
    "    \n"
   ]
  },
  {
   "cell_type": "code",
   "execution_count": 51,
   "metadata": {},
   "outputs": [],
   "source": [
    "n = 1407\n",
    "for i in range(1,n):\n",
    "    scrape_website(i)\n",
    "\n",
    "\n"
   ]
  },
  {
   "cell_type": "code",
   "execution_count": 52,
   "metadata": {},
   "outputs": [
    {
     "data": {
      "text/html": [
       "<div>\n",
       "<style scoped>\n",
       "    .dataframe tbody tr th:only-of-type {\n",
       "        vertical-align: middle;\n",
       "    }\n",
       "\n",
       "    .dataframe tbody tr th {\n",
       "        vertical-align: top;\n",
       "    }\n",
       "\n",
       "    .dataframe thead th {\n",
       "        text-align: right;\n",
       "    }\n",
       "</style>\n",
       "<table border=\"1\" class=\"dataframe\">\n",
       "  <thead>\n",
       "    <tr style=\"text-align: right;\">\n",
       "      <th></th>\n",
       "      <th>statement</th>\n",
       "      <th>condition</th>\n",
       "    </tr>\n",
       "  </thead>\n",
       "  <tbody>\n",
       "    <tr>\n",
       "      <th>0</th>\n",
       "      <td>Government agencies have found a link between...</td>\n",
       "      <td>MISSING CONTEXT</td>\n",
       "    </tr>\n",
       "    <tr>\n",
       "      <th>1</th>\n",
       "      <td>There has been a surge in sudden death or car...</td>\n",
       "      <td>FALSE</td>\n",
       "    </tr>\n",
       "    <tr>\n",
       "      <th>2</th>\n",
       "      <td>Buffalo Bills player Damar Hamlin suffered ca...</td>\n",
       "      <td>MISLEADING</td>\n",
       "    </tr>\n",
       "    <tr>\n",
       "      <th>3</th>\n",
       "      <td>FDA admits Pfizer’s COVID-19 vaccine causes b...</td>\n",
       "      <td>MISLEADING</td>\n",
       "    </tr>\n",
       "    <tr>\n",
       "      <th>4</th>\n",
       "      <td>Sportswriter Grant Wahl died from a COVID-19 ...</td>\n",
       "      <td>FALSE</td>\n",
       "    </tr>\n",
       "    <tr>\n",
       "      <th>...</th>\n",
       "      <td>...</td>\n",
       "      <td>...</td>\n",
       "    </tr>\n",
       "    <tr>\n",
       "      <th>21085</th>\n",
       "      <td>“A patent on this ‘new’ coronavirus expired o...</td>\n",
       "      <td>FALSE</td>\n",
       "    </tr>\n",
       "    <tr>\n",
       "      <th>21086</th>\n",
       "      <td>“There’s magically already a vaccine available.”</td>\n",
       "      <td>FALSE</td>\n",
       "    </tr>\n",
       "    <tr>\n",
       "      <th>21087</th>\n",
       "      <td>The coronavirus was created in a lab and pate...</td>\n",
       "      <td>FALSE</td>\n",
       "    </tr>\n",
       "    <tr>\n",
       "      <th>21088</th>\n",
       "      <td>A Chinese market caused the new coronavirus (...</td>\n",
       "      <td>MISLEADING</td>\n",
       "    </tr>\n",
       "    <tr>\n",
       "      <th>21089</th>\n",
       "      <td>The peak of the new coronavirus will happen i...</td>\n",
       "      <td>PARTLY FALSE</td>\n",
       "    </tr>\n",
       "  </tbody>\n",
       "</table>\n",
       "<p>21090 rows × 2 columns</p>\n",
       "</div>"
      ],
      "text/plain": [
       "                                               statement        condition\n",
       "0       Government agencies have found a link between...  MISSING CONTEXT\n",
       "1       There has been a surge in sudden death or car...            FALSE\n",
       "2       Buffalo Bills player Damar Hamlin suffered ca...       MISLEADING\n",
       "3       FDA admits Pfizer’s COVID-19 vaccine causes b...       MISLEADING\n",
       "4       Sportswriter Grant Wahl died from a COVID-19 ...            FALSE\n",
       "...                                                  ...              ...\n",
       "21085   “A patent on this ‘new’ coronavirus expired o...            FALSE\n",
       "21086   “There’s magically already a vaccine available.”            FALSE\n",
       "21087   The coronavirus was created in a lab and pate...            FALSE\n",
       "21088   A Chinese market caused the new coronavirus (...       MISLEADING\n",
       "21089   The peak of the new coronavirus will happen i...     PARTLY FALSE\n",
       "\n",
       "[21090 rows x 2 columns]"
      ]
     },
     "execution_count": 52,
     "metadata": {},
     "output_type": "execute_result"
    }
   ],
   "source": [
    "data = pd.DataFrame(columns = ['statement', 'condition'])\n",
    "data = data.fillna(0)\n",
    "\n",
    "data['statement'] = statement\n",
    "data['condition'] = pd.Series(condition) \n",
    "\n",
    "\n",
    "data"
   ]
  },
  {
   "cell_type": "code",
   "execution_count": 11,
   "metadata": {},
   "outputs": [],
   "source": [
    "data.to_csv('poynter-dataset.csv')\n"
   ]
  }
 ],
 "metadata": {
  "kernelspec": {
   "display_name": "Python 3",
   "language": "python",
   "name": "python3"
  },
  "language_info": {
   "codemirror_mode": {
    "name": "ipython",
    "version": 3
   },
   "file_extension": ".py",
   "mimetype": "text/x-python",
   "name": "python",
   "nbconvert_exporter": "python",
   "pygments_lexer": "ipython3",
   "version": "3.7.2"
  },
  "orig_nbformat": 4,
  "vscode": {
   "interpreter": {
    "hash": "56f57b438d28c152722f34a5e7336a9017c241641ceae398165a6f845f4b30ee"
   }
  }
 },
 "nbformat": 4,
 "nbformat_minor": 2
}
